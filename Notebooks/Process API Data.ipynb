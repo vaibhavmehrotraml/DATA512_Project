{
 "cells": [
  {
   "cell_type": "code",
   "execution_count": 1,
   "id": "2d14875e-b6c6-4b9c-8cb0-6ae20460be2a",
   "metadata": {},
   "outputs": [],
   "source": [
    "# Import necessary libraries\n",
    "\n",
    "import pandas as pd\n",
    "import numpy as np"
   ]
  },
  {
   "cell_type": "markdown",
   "id": "3d0567d1-3ed3-434d-a159-1d165b65b89c",
   "metadata": {},
   "source": [
    "# Reading Data"
   ]
  },
  {
   "cell_type": "code",
   "execution_count": 4,
   "id": "e17a4a9a-331e-4033-8a47-972c922650bb",
   "metadata": {},
   "outputs": [],
   "source": [
    "# Read gaseous and particle AQI data from CSV files\n",
    "df_gas = pd.read_csv('../Results/gaseous_aqi.csv', index_col=0)\n",
    "df_par = pd.read_csv('../Results/particle_aqi.csv', index_col=0)"
   ]
  },
  {
   "cell_type": "markdown",
   "id": "0745703a-c5eb-4241-a98f-2f04349b5fef",
   "metadata": {},
   "source": [
    "# Selecting and subsetting on Columns of Interest"
   ]
  },
  {
   "cell_type": "code",
   "execution_count": 7,
   "id": "bcfb0158-9728-4c47-9bc2-be68a4fe29d5",
   "metadata": {},
   "outputs": [],
   "source": [
    "# Define columns of interest for both dataframes\n",
    "columns_of_interest = ['arithmetic_mean','first_max_value', 'first_max_hour', 'aqi', 'date_local']\n",
    "\n",
    "# Select only the columns of interest for both dataframes\n",
    "df_gas = df_gas[columns_of_interest]\n",
    "df_par = df_par[columns_of_interest]"
   ]
  },
  {
   "cell_type": "markdown",
   "id": "7e5fb24a-6c2b-4059-9c95-a55a0bd2aed6",
   "metadata": {},
   "source": [
    "# Data Grouping"
   ]
  },
  {
   "cell_type": "code",
   "execution_count": 8,
   "id": "979e097d-6282-404f-850c-0d9154320bd5",
   "metadata": {},
   "outputs": [
    {
     "data": {
      "text/plain": [
       "((6632, 4), (2940, 4))"
      ]
     },
     "execution_count": 8,
     "metadata": {},
     "output_type": "execute_result"
    }
   ],
   "source": [
    "# Group data by 'date_local' and retain the maximum values for each day\n",
    "df_gas = df_gas.groupby('date_local').max()\n",
    "df_par = df_par.groupby('date_local').max()\n",
    "\n",
    "# Check the shapes of the grouped dataframes\n",
    "df_gas.shape, df_par.shape"
   ]
  },
  {
   "cell_type": "markdown",
   "id": "713faff9-da01-4a61-a205-1ff42074dda8",
   "metadata": {},
   "source": [
    "# Merging Data"
   ]
  },
  {
   "cell_type": "code",
   "execution_count": 9,
   "id": "d5c33cb2-13c2-4b62-9a29-9a0102b865ac",
   "metadata": {},
   "outputs": [],
   "source": [
    "# Merge the gaseous and particle dataframes on the date\n",
    "df_merged = df_gas.merge(df_par, on='date_local', how='outer', suffixes=('_gaseous', '_particle'))\n",
    "df_merged = df_merged.sort_index()"
   ]
  },
  {
   "cell_type": "markdown",
   "id": "df32f222-2f6c-4528-b466-9de8a9e1fdc6",
   "metadata": {},
   "source": [
    "# Creating AQI Column"
   ]
  },
  {
   "cell_type": "code",
   "execution_count": 10,
   "id": "609068bc-61e2-4329-8162-3622856a97b6",
   "metadata": {},
   "outputs": [],
   "source": [
    "# Create a new 'AQI' column by taking the maximum AQI value from gaseous and particle columns\n",
    "df_merged['AQI'] = (df_merged[['aqi_gaseous', 'aqi_particle']]).max(axis=1, skipna=True)\n",
    "df_merged = df_merged.reset_index()\n",
    "\n",
    "# Reset the index and create a new 'date_year' column that could be used for grouping later\n",
    "df_merged['date_year'] = df_merged.date_local.astype(np.datetime64).dt.year"
   ]
  },
  {
   "cell_type": "markdown",
   "id": "9b5e68df-fff1-4632-bb6d-2e61e14cf901",
   "metadata": {},
   "source": [
    "# Save the Resulting DataFrame\n"
   ]
  },
  {
   "cell_type": "code",
   "execution_count": 11,
   "id": "dae29338-7c66-469e-b31a-c96046df11bf",
   "metadata": {},
   "outputs": [],
   "source": [
    "# Save the resulting merged and processed dataframe to a new CSV file\n",
    "df_merged.to_csv('../Results/yearly_aqi_data.csv')"
   ]
  }
 ],
 "metadata": {
  "kernelspec": {
   "display_name": "Python 3 (ipykernel)",
   "language": "python",
   "name": "python3"
  },
  "language_info": {
   "codemirror_mode": {
    "name": "ipython",
    "version": 3
   },
   "file_extension": ".py",
   "mimetype": "text/x-python",
   "name": "python",
   "nbconvert_exporter": "python",
   "pygments_lexer": "ipython3",
   "version": "3.9.16"
  }
 },
 "nbformat": 4,
 "nbformat_minor": 5
}
