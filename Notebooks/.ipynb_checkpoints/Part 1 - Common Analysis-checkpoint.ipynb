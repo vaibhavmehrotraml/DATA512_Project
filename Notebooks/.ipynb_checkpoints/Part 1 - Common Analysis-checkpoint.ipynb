{
 "cells": [
  {
   "cell_type": "markdown",
   "id": "9602c811",
   "metadata": {},
   "source": [
    "# Import Necessary Libraries"
   ]
  },
  {
   "cell_type": "code",
   "execution_count": 19,
   "id": "b0a5bde6",
   "metadata": {},
   "outputs": [],
   "source": [
    "import geopandas as gpd\n",
    "import pandas as pd"
   ]
  },
  {
   "cell_type": "markdown",
   "id": "b1faf69e",
   "metadata": {},
   "source": [
    "# Data Loading\n",
    "I came across consistent errors with loading the JSON files 'datasourceerror: failed to read esrijson data' and therefore decided to download the ARCGIS data (“Wildland Fire Polygons Fire Feature Data ArcGIS Pro 2.8 Geodatabase”) and load it using GeoPandas. "
   ]
  },
  {
   "cell_type": "code",
   "execution_count": 56,
   "id": "e715b456-fe01-4535-9984-20b39313218c",
   "metadata": {},
   "outputs": [],
   "source": [
    "gdf = gpd.read_file('../Fire_Feature_Data.gdb/')"
   ]
  },
  {
   "cell_type": "code",
   "execution_count": 60,
   "id": "d66964eb-c1c9-4956-bece-af325c6cb35a",
   "metadata": {},
   "outputs": [
    {
     "data": {
      "text/plain": [
       "(135061, 30)"
      ]
     },
     "execution_count": 60,
     "metadata": {},
     "output_type": "execute_result"
    }
   ],
   "source": [
    "gdf.shape"
   ]
  },
  {
   "cell_type": "code",
   "execution_count": null,
   "id": "68b02902-8133-4243-9f7b-67e0257b7786",
   "metadata": {},
   "outputs": [],
   "source": []
  },
  {
   "cell_type": "code",
   "execution_count": null,
   "id": "da8e277f-13e4-4fdc-9a86-b9918f7502ab",
   "metadata": {},
   "outputs": [],
   "source": []
  },
  {
   "cell_type": "code",
   "execution_count": null,
   "id": "a0adcc72-4ee5-423c-85a5-32d515d8bac8",
   "metadata": {},
   "outputs": [],
   "source": []
  },
  {
   "cell_type": "code",
   "execution_count": null,
   "id": "ef72c867-155d-4484-aa27-2e212f358f71",
   "metadata": {},
   "outputs": [],
   "source": []
  },
  {
   "cell_type": "code",
   "execution_count": null,
   "id": "37065479-8c01-432b-ae41-02ab8284e5d5",
   "metadata": {},
   "outputs": [],
   "source": []
  },
  {
   "cell_type": "code",
   "execution_count": null,
   "id": "aa40394e-a63f-415e-83b0-a8d45f762ed2",
   "metadata": {},
   "outputs": [],
   "source": []
  },
  {
   "cell_type": "code",
   "execution_count": null,
   "id": "a085515e-10cf-44b9-b901-b9a2d3fda637",
   "metadata": {},
   "outputs": [],
   "source": []
  },
  {
   "cell_type": "code",
   "execution_count": null,
   "id": "1715f47e",
   "metadata": {},
   "outputs": [],
   "source": [
    "# TODO: Describe the final output file"
   ]
  },
  {
   "cell_type": "code",
   "execution_count": null,
   "id": "0a2398f0-5143-430b-8c1e-d92dbbd09b2c",
   "metadata": {},
   "outputs": [],
   "source": []
  },
  {
   "cell_type": "code",
   "execution_count": null,
   "id": "1cdaa360-e18c-4334-bd13-565a9129399b",
   "metadata": {},
   "outputs": [],
   "source": []
  },
  {
   "cell_type": "code",
   "execution_count": null,
   "id": "f03a39cd-70d1-4e72-be72-aeeb626d3aa3",
   "metadata": {},
   "outputs": [],
   "source": []
  }
 ],
 "metadata": {
  "kernelspec": {
   "display_name": "Python 3 (ipykernel)",
   "language": "python",
   "name": "python3"
  },
  "language_info": {
   "codemirror_mode": {
    "name": "ipython",
    "version": 3
   },
   "file_extension": ".py",
   "mimetype": "text/x-python",
   "name": "python",
   "nbconvert_exporter": "python",
   "pygments_lexer": "ipython3",
   "version": "3.9.16"
  }
 },
 "nbformat": 4,
 "nbformat_minor": 5
}
