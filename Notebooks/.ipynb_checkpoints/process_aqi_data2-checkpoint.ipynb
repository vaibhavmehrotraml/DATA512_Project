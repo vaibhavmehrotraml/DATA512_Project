{
 "cells": [
  {
   "cell_type": "code",
   "execution_count": 118,
   "id": "2d14875e-b6c6-4b9c-8cb0-6ae20460be2a",
   "metadata": {},
   "outputs": [],
   "source": [
    "import pandas as pd\n",
    "import numpy as np"
   ]
  },
  {
   "cell_type": "code",
   "execution_count": 119,
   "id": "e17a4a9a-331e-4033-8a47-972c922650bb",
   "metadata": {},
   "outputs": [],
   "source": [
    "df_gas = pd.read_csv('gaseous_aqi.csv', index_col=0)\n",
    "df_par = pd.read_csv('particle_aqi.csv', index_col=0)"
   ]
  },
  {
   "cell_type": "code",
   "execution_count": 120,
   "id": "bcfb0158-9728-4c47-9bc2-be68a4fe29d5",
   "metadata": {},
   "outputs": [],
   "source": [
    "columns_of_interest = ['arithmetic_mean','first_max_value', 'first_max_hour', 'aqi', 'date_local']"
   ]
  },
  {
   "cell_type": "code",
   "execution_count": 121,
   "id": "f19a2313-733c-47e7-97cd-bcf28486ccdf",
   "metadata": {},
   "outputs": [],
   "source": [
    "df_gas = df_gas[columns_of_interest]\n",
    "df_par = df_par[columns_of_interest]"
   ]
  },
  {
   "cell_type": "code",
   "execution_count": 122,
   "id": "979e097d-6282-404f-850c-0d9154320bd5",
   "metadata": {},
   "outputs": [
    {
     "data": {
      "text/plain": [
       "((6632, 4), (2940, 4))"
      ]
     },
     "execution_count": 122,
     "metadata": {},
     "output_type": "execute_result"
    }
   ],
   "source": [
    "df_gas = df_gas.groupby('date_local').max()\n",
    "df_par = df_par.groupby('date_local').max()\n",
    "\n",
    "df_gas.shape, df_par.shape"
   ]
  },
  {
   "cell_type": "code",
   "execution_count": 123,
   "id": "d5c33cb2-13c2-4b62-9a29-9a0102b865ac",
   "metadata": {},
   "outputs": [],
   "source": [
    "df_merged = df_gas.merge(df_par, on='date_local', how='outer', suffixes=('_gaseous', '_particle'))\n",
    "df_merged = df_merged.sort_index()"
   ]
  },
  {
   "cell_type": "code",
   "execution_count": 133,
   "id": "609068bc-61e2-4329-8162-3622856a97b6",
   "metadata": {},
   "outputs": [],
   "source": [
    "df_merged['AQI'] = (df_merged[['aqi_gaseous', 'aqi_particle']]).max(axis=1, skipna=True)\n",
    "df_merged = df_merged.reset_index()\n",
    "df_merged['date_year'] = df_merged.date_local.astype(np.datetime64).dt.year"
   ]
  },
  {
   "cell_type": "code",
   "execution_count": 136,
   "id": "dae29338-7c66-469e-b31a-c96046df11bf",
   "metadata": {},
   "outputs": [],
   "source": [
    "df_merged.to_csv('yearly_aqi_data.csv')"
   ]
  }
 ],
 "metadata": {
  "kernelspec": {
   "display_name": "Python 3 (ipykernel)",
   "language": "python",
   "name": "python3"
  },
  "language_info": {
   "codemirror_mode": {
    "name": "ipython",
    "version": 3
   },
   "file_extension": ".py",
   "mimetype": "text/x-python",
   "name": "python",
   "nbconvert_exporter": "python",
   "pygments_lexer": "ipython3",
   "version": "3.9.16"
  }
 },
 "nbformat": 4,
 "nbformat_minor": 5
}
