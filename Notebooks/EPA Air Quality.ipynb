{
 "cells": [
  {
   "cell_type": "markdown",
   "metadata": {},
   "source": [
    "# Collect AQI Data"
   ]
  },
  {
   "cell_type": "markdown",
   "metadata": {},
   "source": [
    "The following code is taken, mostly as-is from the work of Dr. McDonald for DATA 512 course at the University of Washington"
   ]
  },
  {
   "cell_type": "code",
   "execution_count": null,
   "metadata": {
    "tags": []
   },
   "outputs": [],
   "source": [
    "import json, time\n",
    "import requests\n",
    "import pandas as pd\n",
    "import logging\n",
    "from tqdm import tqdm"
   ]
  },
  {
   "cell_type": "code",
   "execution_count": null,
   "metadata": {},
   "outputs": [],
   "source": [
    "# Create and configure logger\n",
    "logging.basicConfig(filename=f\"../pipeline.log\",\n",
    "                    format='%(asctime)s %(message)s',\n",
    "                    filemode='a',\n",
    "                    level=logging.INFO)\n",
    "\n",
    "logger = logging.getLogger()"
   ]
  },
  {
   "cell_type": "code",
   "execution_count": null,
   "metadata": {
    "tags": []
   },
   "outputs": [],
   "source": [
    "API_REQUEST_URL = 'https://aqs.epa.gov/data/api'\n",
    "API_ACTION_SIGNUP = '/signup?email=vaibhav1@uw.edu'\n",
    "API_ACTION_LIST_CLASSES = '/list/classes?email={email}&key={key}'\n",
    "API_ACTION_LIST_PARAMS = '/list/parametersByClass?email={email}&key={key}&pc={pclass}'\n",
    "API_ACTION_LIST_SITES = '/list/sitesByCounty?email={email}&key={key}&state={state}&county={county}'\n",
    "API_ACTION_MONITORS_COUNTY = '/monitors/byCounty?email={email}&key={key}&param={param}&bdate={begin_date}&edate={end_date}&state={state}&county={county}'\n",
    "API_ACTION_MONITORS_BOX = '/monitors/byBox?email={email}&key={key}&param={param}&bdate={begin_date}&edate={end_date}&minlat={minlat}&maxlat={maxlat}&minlon={minlon}&maxlon={maxlon}'\n",
    "API_ACTION_DAILY_SUMMARY_COUNTY = '/dailyData/byCounty?email={email}&key={key}&param={param}&bdate={begin_date}&edate={end_date}&state={state}&county={county}'\n",
    "API_ACTION_DAILY_SUMMARY_BOX = '/dailyData/byBox?email={email}&key={key}&param={param}&bdate={begin_date}&edate={end_date}&minlat={minlat}&maxlat={maxlat}&minlon={minlon}&maxlon={maxlon}'\n",
    "API_LATENCY_ASSUMED = 0.002       # Assuming roughly 2ms latency on the API and network\n",
    "API_THROTTLE_WAIT = (1.0/100.0)-API_LATENCY_ASSUMED\n",
    "AQS_REQUEST_TEMPLATE = {\n",
    "    \"email\":      \"\",     \n",
    "    \"key\":        \"\",      \n",
    "    \"state\":      \"\",     # the two digit state FIPS # as a string\n",
    "    \"county\":     \"\",     # the three digit county FIPS # as a string\n",
    "    \"begin_date\": \"\",     # the start of a time window in YYYYMMDD format\n",
    "    \"end_date\":   \"\",     # the end of a time window in YYYYMMDD format, begin_date and end_date must be in the same year\n",
    "    \"minlat\":    0.0,\n",
    "    \"maxlat\":    0.0,\n",
    "    \"minlon\":    0.0,\n",
    "    \"maxlon\":    0.0,\n",
    "    \"param\":     \"\",     # a list of comma separated 5 digit codes, max 5 codes requested\n",
    "    \"pclass\":    \"\"      # parameter class is only used by the List calls\n",
    "}"
   ]
  },
  {
   "cell_type": "code",
   "execution_count": null,
   "metadata": {},
   "outputs": [],
   "source": [
    "USERNAME = \"vaibhav1@uw.edu\"\n",
    "APIKEY = 'bluehare23'"
   ]
  },
  {
   "cell_type": "code",
   "execution_count": null,
   "metadata": {},
   "outputs": [],
   "source": [
    "AQI_PARAM_CLASS = \"AQI POLLUTANTS\""
   ]
  },
  {
   "cell_type": "code",
   "execution_count": null,
   "metadata": {},
   "outputs": [],
   "source": [
    "#   Gaseous AQI pollutants CO, SO2, NO2, and O2\n",
    "AQI_PARAMS_GASEOUS = \"42101,42401,42602,44201\"\n",
    "#   Particulate AQI pollutants PM10, PM2.5, and Acceptable PM2.5\n",
    "AQI_PARAMS_PARTICULATES = \"81102,88101,88502\""
   ]
  },
  {
   "cell_type": "markdown",
   "metadata": {},
   "source": [
    "Air quality monitoring stations are located all over the US at different locations. We will need some sample locations to experiment with different locations to see what kinds of values come back from different sensor requests.\n",
    "\n",
    "This list includes the [FIPS](https://www.census.gov/library/reference/code-lists/ansi.html) number for the state and county as a 5 digit string. This format, the 5 digit string, is a 'old' format that is still widely used. There are new codes that may eventually be adopted for the US government information systems. But FIPS is currently what the AQS uses, so that's what is in the list as the constant.\n",
    "\n",
    "Just two example cities to explore."
   ]
  },
  {
   "cell_type": "code",
   "execution_count": null,
   "metadata": {},
   "outputs": [],
   "source": [
    "#\n",
    "#   We'll use these two city locations in the examples below.\n",
    "#\n",
    "CITY_LOCATIONS = {\n",
    "    'prescott' :       {'city'   : 'Prescott Valley',\n",
    "                       'county' : 'Yavapai',\n",
    "                       'state'  : 'Arizona',\n",
    "                       'fips'   : '04025',\n",
    "                       'latlon' : [34.561389, -112.54] }\n",
    "}"
   ]
  },
  {
   "cell_type": "code",
   "execution_count": null,
   "metadata": {},
   "outputs": [],
   "source": [
    "def request_daily_summary(email_address = None, key = None, param=None,\n",
    "                          begin_date = None, end_date = None, fips = None,\n",
    "                          endpoint_url = API_REQUEST_URL, \n",
    "                          endpoint_action = API_ACTION_DAILY_SUMMARY_COUNTY, \n",
    "                          request_template = AQS_REQUEST_TEMPLATE,\n",
    "                          headers = None):\n",
    "    \n",
    "    #  This prioritizes the info from the call parameters - not what's already in the template\n",
    "    if email_address:\n",
    "        request_template['email'] = email_address\n",
    "    if key:\n",
    "        request_template['key'] = key\n",
    "    if param:\n",
    "        request_template['param'] = param\n",
    "    if begin_date:\n",
    "        request_template['begin_date'] = begin_date\n",
    "    if end_date:\n",
    "        request_template['end_date'] = end_date\n",
    "    if fips and len(fips)==5:\n",
    "        request_template['state'] = fips[:2]\n",
    "        request_template['county'] = fips[2:]            \n",
    "        \n",
    "    # compose the request\n",
    "    request_url = endpoint_url+endpoint_action.format(**request_template)\n",
    "        \n",
    "    # make the request\n",
    "    try:\n",
    "        # Wait first, to make sure we don't exceed a rate limit in the situation where an exception occurs\n",
    "        # during the request processing - throttling is always a good practice with a free data source\n",
    "        if API_THROTTLE_WAIT > 0.0:\n",
    "            time.sleep(API_THROTTLE_WAIT)\n",
    "        response = requests.get(request_url, headers=headers)\n",
    "        json_response = response.json()\n",
    "    except Exception as e:\n",
    "        print(e)\n",
    "        json_response = None\n",
    "    return json_response"
   ]
  },
  {
   "cell_type": "code",
   "execution_count": null,
   "metadata": {
    "tags": []
   },
   "outputs": [],
   "source": [
    "request_data = AQS_REQUEST_TEMPLATE.copy()\n",
    "request_data['email'] = USERNAME\n",
    "request_data['key'] = APIKEY\n",
    "request_data['param'] = AQI_PARAMS_GASEOUS\n",
    "request_data['state'] = CITY_LOCATIONS['prescott']['fips'][:2]\n",
    "request_data['county'] = CITY_LOCATIONS['prescott']['fips'][2:]\n",
    "\n",
    "df_gaseous_aqi = []\n",
    "counter = 0\n",
    "# Loop through years in reverse order (from 2023 to 1963), we expect to have recent data\n",
    "for year in tqdm(reversed(range(1963, 2024))):\n",
    "    logger.info(f\"Collecting Gaseous Data for year: {year}\")\n",
    "    # Check if there are 10 consecutive years of no gaseous data\n",
    "    if counter == 10:\n",
    "        logger.info('Got 10 consecutive years of no gaseous data, stopping requests')\n",
    "        break\n",
    "        \n",
    "    # Request daily summary data\n",
    "    gaseous_aqi = request_daily_summary(request_template=request_data, begin_date=f\"{year}0101\", end_date=f\"{year}1231\")\n",
    "    # Pause for 5 seconds to avoid excessive API requests\n",
    "    time.sleep(5)\n",
    "    \n",
    "    # Check if the response contains no data\n",
    "    if gaseous_aqi.get('Data') == []:\n",
    "        logger.info(f\"Got no data for {year}, status = {gaseous_aqi['Header']}\")\n",
    "        counter += 1\n",
    "        continue\n",
    "    \n",
    "    # Append the data to the list and reset counter since data was obtained\n",
    "    df_gaseous_aqi.append(pd.DataFrame(gaseous_aqi['Data']))\n",
    "    counter = 0\n",
    "\n",
    "    # Save data every 10 years incase the API breaks down or gives a new error\n",
    "    if year % 10 == 0:\n",
    "        pd.concat(df_gaseous_aqi).to_csv('gaseous_api_data_save.csv')\n",
    "\n",
    "# Concatenate all dataframes in the list and save to a CSV file\n",
    "df_gaseous_aqi = pd.concat(df_gaseous_aqi)\n",
    "df_gaseous_aqi.to_csv('gaseous_aqi.csv')"
   ]
  },
  {
   "cell_type": "code",
   "execution_count": null,
   "metadata": {},
   "outputs": [],
   "source": [
    "request_data['param'] = AQI_PARAMS_PARTICULATES\n",
    "\n",
    "list_particle_aqi = []\n",
    "counter = 0\n",
    "# Loop through years in reverse order (from 2023 to 1963)\n",
    "for year in tqdm(reversed(range(1963, 2024))):\n",
    "    logger.info(f\"Collecting Particle Data for year: {year}\")    \n",
    "    \n",
    "    # Check if there are 10 consecutive years of no particle data\n",
    "    if counter == 10:\n",
    "        logger.info('Got 10 consecutive years of no particle data, stopping requests')\n",
    "        break\n",
    "    \n",
    "    # Request daily summary data\n",
    "    particulate_aqi = request_daily_summary(request_template=request_data, begin_date=f\"{year}0101\", end_date=f\"{year}1231\", endpoint_action=API_ACTION_MONITORS_COUNTY)\n",
    "    # Pause for 5 seconds to avoid excessive API requests\n",
    "    time.sleep(5)\n",
    "    \n",
    "    # Check if the response contains no data\n",
    "    if particulate_aqi.get('Data') == []:\n",
    "        logger.info(f\"Got no data for {year}, status = {particulate_aqi['Header']}\")\n",
    "        counter += 1\n",
    "        continue\n",
    "    \n",
    "    # Append the data to the list and reset counter since data was obtained\n",
    "    list_particle_aqi.append(pd.DataFrame(particulate_aqi['Data']))\n",
    "    counter = 0\n",
    "    \n",
    "    # Save data every 10 years\n",
    "    if year % 10 == 0:\n",
    "        pd.concat(df_particle_aqi).to_csv('particle_api_data_save.csv')\n",
    "\n",
    "# Concatenate all dataframes in the list and save to a CSV file\n",
    "if list_particle_aqi != []:\n",
    "    df_particle_aqi = pd.concat(list_particle_aqi)\n",
    "df_particle_aqi.to_csv('particle_aqi.csv')"
   ]
  }
 ],
 "metadata": {
  "kernelspec": {
   "display_name": "Python 3 (ipykernel)",
   "language": "python",
   "name": "python3"
  },
  "language_info": {
   "codemirror_mode": {
    "name": "ipython",
    "version": 3
   },
   "file_extension": ".py",
   "mimetype": "text/x-python",
   "name": "python",
   "nbconvert_exporter": "python",
   "pygments_lexer": "ipython3",
   "version": "3.9.16"
  }
 },
 "nbformat": 4,
 "nbformat_minor": 4
}
